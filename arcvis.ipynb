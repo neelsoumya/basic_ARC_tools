{
  "nbformat": 4,
  "nbformat_minor": 0,
  "metadata": {
    "colab": {
      "provenance": [],
      "authorship_tag": "ABX9TyMSqRw+MlvX/J0VC5Q/OTJY",
      "include_colab_link": true
    },
    "kernelspec": {
      "name": "python3",
      "display_name": "Python 3"
    },
    "language_info": {
      "name": "python"
    }
  },
  "cells": [
    {
      "cell_type": "markdown",
      "metadata": {
        "id": "view-in-github",
        "colab_type": "text"
      },
      "source": [
        "<a href=\"https://colab.research.google.com/github/neelsoumya/basic_ARC_tools/blob/main/arcvis.ipynb\" target=\"_parent\"><img src=\"https://colab.research.google.com/assets/colab-badge.svg\" alt=\"Open In Colab\"/></a>"
      ]
    },
    {
      "cell_type": "markdown",
      "source": [
        "## Visualize ARC/ConceptARC\n",
        "\n",
        "Visualize ARC and ConceptARC tasks given a json file"
      ],
      "metadata": {
        "id": "IjKZBPAdxPjK"
      }
    },
    {
      "cell_type": "code",
      "execution_count": null,
      "metadata": {
        "id": "tP_BNtbqxMg6"
      },
      "outputs": [],
      "source": [
        "\"\"\"\n",
        "Function to plot ARC/ConceptARC tasks given json file\n",
        "\n",
        "Usage:\n",
        "     python arcvis.py\n",
        "\n",
        "Author: Soumya Banerjee\n",
        "\"\"\"\n",
        "\n",
        "\n",
        "import matplotlib.pyplot as plt\n",
        "import numpy as np\n",
        "import json\n",
        "import argparse\n",
        "\n",
        "def visualize_grid(grid, title=\"Grid Visualization\", str_filename=\"arcexample.png\"):\n",
        "    \"\"\"\n",
        "    Function to plot ARC/ConceptARC task given a grid of number\n",
        "    :param grid: numpy array\n",
        "    :param title: title of plot\n",
        "    :param str_filename: filename in which to save\n",
        "    :return: Null\n",
        "    \"\"\"\n",
        "    plt.figure(figsize=(6, 6))\n",
        "    plt.imshow(grid, cmap=\"tab10\", origin=\"upper\")\n",
        "    plt.colorbar()\n",
        "    plt.title(title)\n",
        "    plt.xticks([])\n",
        "    plt.yticks([])\n",
        "    plt.savefig(str_filename)\n",
        "\n",
        "def plot_arc_tasks_from_file(str_json_filename):\n",
        "    \"\"\"\n",
        "    Function to plot ARC/ConceptARC tasks given a JSON file\n",
        "    :param json_file: path to the JSON file containing ARC tasks\n",
        "    :return: Null\n",
        "    \"\"\"\n",
        "    with open(str_json_filename, 'r') as file:\n",
        "        data = json.load(file)\n",
        "\n",
        "    # Visualize training examples\n",
        "    for i, example in enumerate(data.get(\"train\", [])):\n",
        "        input_grid = np.array(example[\"input\"])\n",
        "        output_grid = np.array(example[\"output\"])\n",
        "\n",
        "        visualize_grid(input_grid, title=f\"Training Input {i+1}\", str_filename=\"arcplots/\"+str_json_filename+\"_\"+f\"arc_train_input{i+1}.png\")\n",
        "        visualize_grid(output_grid, title=f\"Training Output {i+1}\", str_filename=\"arcplots/\"+str_json_filename+\"_\"+f\"arc_train_output{i+1}.png\")\n",
        "\n",
        "    # Visualize test examples\n",
        "    for i, example in enumerate(data.get(\"test\", [])):\n",
        "        input_grid = np.array(example[\"input\"])\n",
        "        output_grid = np.array(example[\"output\"])\n",
        "\n",
        "        visualize_grid(grid=input_grid, title=f\"Test Input {i+1}\", str_filename=\"arcplots/\"+str_json_filename+\"_\"+f\"arc_test_input{i+1}.png\")\n",
        "        visualize_grid(grid=output_grid, title=f\"Test Output {i+1}\", str_filename=\"arcplots/\"+str_json_filename+\"_\"+f\"arc_test_output{i+1}.png\")\n",
        "\n",
        "\n",
        "# Example usage:"
      ]
    },
    {
      "cell_type": "markdown",
      "source": [
        "# Load json files"
      ],
      "metadata": {
        "id": "-kcqOdSmx4F2"
      }
    },
    {
      "cell_type": "code",
      "metadata": {
        "colab": {
          "base_uri": "https://localhost:8080/"
        },
        "id": "436adc76",
        "outputId": "d8045ebf-ce8a-43ef-c840-9b69a9875e52"
      },
      "source": [
        "from google.colab import drive\n",
        "drive.mount('/content/drive')"
      ],
      "execution_count": null,
      "outputs": [
        {
          "output_type": "stream",
          "name": "stdout",
          "text": [
            "Drive already mounted at /content/drive; to attempt to forcibly remount, call drive.mount(\"/content/drive\", force_remount=True).\n"
          ]
        }
      ]
    },
    {
      "cell_type": "code",
      "metadata": {
        "colab": {
          "base_uri": "https://localhost:8080/",
          "height": 193
        },
        "id": "355f27df",
        "outputId": "606cc23f-711a-415a-c550-a795f202b29f"
      },
      "source": [
        "import os\n",
        "\n",
        "# Change the working directory to your desired path in Google Drive\n",
        "# Replace 'My Drive/your_folder' with the actual path to your folder\n",
        "#%cd /content/drive/My Drive/your_folder\n",
        "#os.chdir(\"/content/drive/My Drive/Colab Notebooks/ARC_Visualization\")\n",
        "os.chdir(\"/content/drive/My Drive/Colab Notebooks/basic_ARC_tools/\")"
      ],
      "execution_count": null,
      "outputs": [
        {
          "output_type": "error",
          "ename": "FileNotFoundError",
          "evalue": "[Errno 2] No such file or directory: '/content/drive/My Drive/Colab Notebooks/basic_ARC_tools/'",
          "traceback": [
            "\u001b[0;31m---------------------------------------------------------------------------\u001b[0m",
            "\u001b[0;31mFileNotFoundError\u001b[0m                         Traceback (most recent call last)",
            "\u001b[0;32m/tmp/ipython-input-20-4161588912.py\u001b[0m in \u001b[0;36m<cell line: 0>\u001b[0;34m()\u001b[0m\n\u001b[1;32m      5\u001b[0m \u001b[0;31m#%cd /content/drive/My Drive/your_folder\u001b[0m\u001b[0;34m\u001b[0m\u001b[0;34m\u001b[0m\u001b[0m\n\u001b[1;32m      6\u001b[0m \u001b[0;31m#os.chdir(\"/content/drive/My Drive/Colab Notebooks/ARC_Visualization\")\u001b[0m\u001b[0;34m\u001b[0m\u001b[0;34m\u001b[0m\u001b[0m\n\u001b[0;32m----> 7\u001b[0;31m \u001b[0mos\u001b[0m\u001b[0;34m.\u001b[0m\u001b[0mchdir\u001b[0m\u001b[0;34m(\u001b[0m\u001b[0;34m\"/content/drive/My Drive/Colab Notebooks/basic_ARC_tools/\"\u001b[0m\u001b[0;34m)\u001b[0m\u001b[0;34m\u001b[0m\u001b[0;34m\u001b[0m\u001b[0m\n\u001b[0m",
            "\u001b[0;31mFileNotFoundError\u001b[0m: [Errno 2] No such file or directory: '/content/drive/My Drive/Colab Notebooks/basic_ARC_tools/'"
          ]
        }
      ]
    },
    {
      "cell_type": "markdown",
      "source": [
        "## Load json file\n",
        "\n",
        "* Ensure that `/content/drive/My Drive/Colab Notebooks/basic_ARC_tools/` has all json files"
      ],
      "metadata": {
        "id": "t1k8gK3T4eOw"
      }
    },
    {
      "cell_type": "code",
      "source": [
        "plot_arc_tasks_from_file(\"ExtendToBoundary4.json\")"
      ],
      "metadata": {
        "colab": {
          "base_uri": "https://localhost:8080/",
          "height": 263
        },
        "id": "PIDw2BTh4f6a",
        "outputId": "3314e52f-c145-492e-ce27-2bd26028f932"
      },
      "execution_count": null,
      "outputs": [
        {
          "output_type": "error",
          "ename": "FileNotFoundError",
          "evalue": "[Errno 2] No such file or directory: 'ExtendToBoundary4.json'",
          "traceback": [
            "\u001b[0;31m---------------------------------------------------------------------------\u001b[0m",
            "\u001b[0;31mFileNotFoundError\u001b[0m                         Traceback (most recent call last)",
            "\u001b[0;32m/tmp/ipython-input-21-437194622.py\u001b[0m in \u001b[0;36m<cell line: 0>\u001b[0;34m()\u001b[0m\n\u001b[0;32m----> 1\u001b[0;31m \u001b[0mplot_arc_tasks_from_file\u001b[0m\u001b[0;34m(\u001b[0m\u001b[0;34m\"ExtendToBoundary4.json\"\u001b[0m\u001b[0;34m)\u001b[0m\u001b[0;34m\u001b[0m\u001b[0;34m\u001b[0m\u001b[0m\n\u001b[0m",
            "\u001b[0;32m/tmp/ipython-input-18-1389469154.py\u001b[0m in \u001b[0;36mplot_arc_tasks_from_file\u001b[0;34m(str_json_filename)\u001b[0m\n\u001b[1;32m     36\u001b[0m     \u001b[0;34m:\u001b[0m\u001b[0;32mreturn\u001b[0m\u001b[0;34m:\u001b[0m \u001b[0mNull\u001b[0m\u001b[0;34m\u001b[0m\u001b[0;34m\u001b[0m\u001b[0m\n\u001b[1;32m     37\u001b[0m     \"\"\"\n\u001b[0;32m---> 38\u001b[0;31m     \u001b[0;32mwith\u001b[0m \u001b[0mopen\u001b[0m\u001b[0;34m(\u001b[0m\u001b[0mstr_json_filename\u001b[0m\u001b[0;34m,\u001b[0m \u001b[0;34m'r'\u001b[0m\u001b[0;34m)\u001b[0m \u001b[0;32mas\u001b[0m \u001b[0mfile\u001b[0m\u001b[0;34m:\u001b[0m\u001b[0;34m\u001b[0m\u001b[0;34m\u001b[0m\u001b[0m\n\u001b[0m\u001b[1;32m     39\u001b[0m         \u001b[0mdata\u001b[0m \u001b[0;34m=\u001b[0m \u001b[0mjson\u001b[0m\u001b[0;34m.\u001b[0m\u001b[0mload\u001b[0m\u001b[0;34m(\u001b[0m\u001b[0mfile\u001b[0m\u001b[0;34m)\u001b[0m\u001b[0;34m\u001b[0m\u001b[0;34m\u001b[0m\u001b[0m\n\u001b[1;32m     40\u001b[0m \u001b[0;34m\u001b[0m\u001b[0m\n",
            "\u001b[0;31mFileNotFoundError\u001b[0m: [Errno 2] No such file or directory: 'ExtendToBoundary4.json'"
          ]
        }
      ]
    }
  ]
}